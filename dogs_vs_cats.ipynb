{
 "cells": [
  {
   "attachments": {},
   "cell_type": "markdown",
   "metadata": {},
   "source": [
    "# This Code has the purpose of identifying if a picture is a CAT or a DOG\n",
    "\n",
    "The steps for doing that are:\n",
    "- Organizing the data into train, valid and test directories"
   ]
  },
  {
   "cell_type": "code",
   "execution_count": 5,
   "metadata": {},
   "outputs": [],
   "source": [
    "import os\n",
    "\n",
    "os.chdir('dogs-vs-cats')\n",
    "if os.path.isdir('train/dog') is False:\n",
    "        os.makedirs('train/dog')\n",
    "        os.makedirs('train/cat')\n",
    "        os.makedirs('valid/dog')\n",
    "        os.makedirs('valid/cat')\n",
    "        os.makedirs('test/dog')\n",
    "        os.makedirs('test/cat')"
   ]
  },
  {
   "cell_type": "code",
   "execution_count": 7,
   "metadata": {},
   "outputs": [],
   "source": [
    "import glob\n",
    "import random\n",
    "import shutil\n",
    "\n",
    "for c in random.sample(glob.glob('data/cat*'), 500):\n",
    "    shutil.move(c, 'train/cat')\n",
    "for c in random.sample(glob.glob('data/dog*'), 500):\n",
    "    shutil.move(c, 'train/dog')\n",
    "for c in random.sample(glob.glob('data/cat*'), 100):\n",
    "    shutil.move(c, 'valid/cat')\n",
    "for c in random.sample(glob.glob('data/dog*'), 100):\n",
    "    shutil.move(c, 'valid/dog')\n",
    "for c in random.sample(glob.glob('data/cat*'), 50):\n",
    "    shutil.move(c, 'test/cat')\n",
    "for c in random.sample(glob.glob('data/dog*'), 50):\n",
    "    shutil.move(c, 'test/dog')\n"
   ]
  },
  {
   "cell_type": "code",
   "execution_count": 8,
   "metadata": {},
   "outputs": [],
   "source": [
    "train_path = 'train'\n",
    "valid_path = 'valid'\n",
    "test_path = 'test'"
   ]
  },
  {
   "cell_type": "code",
   "execution_count": 17,
   "metadata": {},
   "outputs": [
    {
     "ename": "ModuleNotFoundError",
     "evalue": "No module named 'tf'",
     "output_type": "error",
     "traceback": [
      "\u001b[0;31m---------------------------------------------------------------------------\u001b[0m",
      "\u001b[0;31mModuleNotFoundError\u001b[0m                       Traceback (most recent call last)",
      "Cell \u001b[0;32mIn[17], line 2\u001b[0m\n\u001b[1;32m      1\u001b[0m \u001b[39mimport\u001b[39;00m \u001b[39mtensorflow\u001b[39;00m \u001b[39mas\u001b[39;00m \u001b[39mtf\u001b[39;00m\n\u001b[0;32m----> 2\u001b[0m \u001b[39mfrom\u001b[39;00m \u001b[39mtf\u001b[39;00m\u001b[39m.\u001b[39;00m\u001b[39mkeras\u001b[39;00m\u001b[39m.\u001b[39;00m\u001b[39mpreprocessing\u001b[39;00m\u001b[39m.\u001b[39;00m\u001b[39mimage\u001b[39;00m \u001b[39mimport\u001b[39;00m ImageDataGenerator\n\u001b[1;32m      4\u001b[0m train_batches \u001b[39m=\u001b[39m ImageDataGenerator(preprocessing_function\u001b[39m=\u001b[39mtf\u001b[39m.\u001b[39mkeras\u001b[39m.\u001b[39mapplications\u001b[39m.\u001b[39mvgg16\u001b[39m.\u001b[39mpreprocess_input)\\\n\u001b[1;32m      5\u001b[0m     \u001b[39m.\u001b[39mflow_from_directory(directory\u001b[39m=\u001b[39mtrain_path, target_size\u001b[39m=\u001b[39m(\u001b[39m224\u001b[39m,\u001b[39m224\u001b[39m), classes\u001b[39m=\u001b[39m[\u001b[39m'\u001b[39m\u001b[39mcat\u001b[39m\u001b[39m'\u001b[39m, \u001b[39m'\u001b[39m\u001b[39mdog\u001b[39m\u001b[39m'\u001b[39m], batch_size\u001b[39m=\u001b[39m\u001b[39m10\u001b[39m)\n\u001b[1;32m      6\u001b[0m valid_batches \u001b[39m=\u001b[39m ImageDataGenerator(preprocessing_function\u001b[39m=\u001b[39mtf\u001b[39m.\u001b[39mkeras\u001b[39m.\u001b[39mapplications\u001b[39m.\u001b[39mvgg16\u001b[39m.\u001b[39mpreprocess_input)\\\n\u001b[1;32m      7\u001b[0m     \u001b[39m.\u001b[39mflow_from_directory(directory\u001b[39m=\u001b[39mvalid_path, target_size\u001b[39m=\u001b[39m(\u001b[39m224\u001b[39m,\u001b[39m224\u001b[39m), classes\u001b[39m=\u001b[39m[\u001b[39m'\u001b[39m\u001b[39mcat\u001b[39m\u001b[39m'\u001b[39m, \u001b[39m'\u001b[39m\u001b[39mdog\u001b[39m\u001b[39m'\u001b[39m], batch_size\u001b[39m=\u001b[39m\u001b[39m10\u001b[39m)\n",
      "\u001b[0;31mModuleNotFoundError\u001b[0m: No module named 'tf'"
     ]
    }
   ],
   "source": [
    "import tensorflow as tf\n",
    "import keras\n",
    "from keras.preprocessing.image import ImageDataGenerator\n",
    "\n",
    "train_batches = ImageDataGenerator(preprocessing_function=tf.keras.applications.vgg16.preprocess_input)\\\n",
    "    .flow_from_directory(directory=train_path, target_size=(224,224), classes=['cat', 'dog'], batch_size=10)\n",
    "valid_batches = ImageDataGenerator(preprocessing_function=tf.keras.applications.vgg16.preprocess_input)\\\n",
    "    .flow_from_directory(directory=valid_path, target_size=(224,224), classes=['cat', 'dog'], batch_size=10)\n",
    "test_batches = ImageDataGenerator(preprocessing_function=tf.keras.applications.vgg16.preprocess_input)\\\n",
    "    .flow_from_directory(directory=test_path, target_size=(224,224), classes=['cat', 'dog'], batch_size=10, shuffle=False)"
   ]
  }
 ],
 "metadata": {
  "kernelspec": {
   "display_name": "ve",
   "language": "python",
   "name": "python3"
  },
  "language_info": {
   "codemirror_mode": {
    "name": "ipython",
    "version": 3
   },
   "file_extension": ".py",
   "mimetype": "text/x-python",
   "name": "python",
   "nbconvert_exporter": "python",
   "pygments_lexer": "ipython3",
   "version": "3.11.4"
  },
  "orig_nbformat": 4
 },
 "nbformat": 4,
 "nbformat_minor": 2
}
